{
    "cells": [
        {
            "cell_type": "markdown",
            "metadata": {
                "collapsed": true
            },
            "source": "# My Jupyter Notebook on IBM Watson Studio"
        },
        {
            "cell_type": "markdown",
            "metadata": {},
            "source": "**Victor Carvalho**\n\nData Scientist"
        },
        {
            "cell_type": "markdown",
            "metadata": {},
            "source": "_I am interested in data science because there are many oportunities to help the society with it._"
        },
        {
            "cell_type": "markdown",
            "metadata": {},
            "source": "### The code will add the ages."
        },
        {
            "cell_type": "code",
            "execution_count": 6,
            "metadata": {
                "scrolled": true
            },
            "outputs": [
                {
                    "name": "stdout",
                    "output_type": "stream",
                    "text": "The sum of ages between Victor and Yasmin is 48\n"
                }
            ],
            "source": "victor_age=24\nyasmin_age=24\n\nsum_ages = victor_age + yasmin_age\n\nprint('The sum of ages between Victor and Yasmin is', sum_ages)"
        },
        {
            "cell_type": "markdown",
            "metadata": {},
            "source": "<hr>\n\n<ul>\n    <li>Python</li>\n    <li>SQL</li>\n    <li>R</li>\n</ul>\n\n<ol>\n    <li>Jupyter Notebook</li>\n    <li>R Studio</li>\n    <li>Watson Studio</li>\n</ol>\n\n\n<table>\n    <tr>\n        <th>Company</th>\n        <th>Contact</th>\n        <th>Country</th>\n    </tr>\n    <tr>\n        <td>Company1</td>\n        <td>Contact1</td>\n        <td>Country1</td>\n    </tr>\n    <tr>\n        <td>Company2</td>\n        <td>Contact2</td>\n        <td>Country2</td>\n    </tr>\n</table"
        }
    ],
    "metadata": {
        "kernelspec": {
            "display_name": "Python 3.10",
            "language": "python",
            "name": "python3"
        },
        "language_info": {
            "codemirror_mode": {
                "name": "ipython",
                "version": 3
            },
            "file_extension": ".py",
            "mimetype": "text/x-python",
            "name": "python",
            "nbconvert_exporter": "python",
            "pygments_lexer": "ipython3",
            "version": "3.10.6"
        }
    },
    "nbformat": 4,
    "nbformat_minor": 1
}